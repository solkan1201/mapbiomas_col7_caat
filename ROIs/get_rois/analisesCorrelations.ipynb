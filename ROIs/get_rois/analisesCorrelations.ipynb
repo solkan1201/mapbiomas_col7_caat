{
 "cells": [
  {
   "cell_type": "code",
   "execution_count": 50,
   "id": "da361681",
   "metadata": {},
   "outputs": [],
   "source": [
    "import glob\n",
    "import sys\n",
    "import os\n",
    "import copy\n",
    "import math\n",
    "import numpy as np \n",
    "import pandas as pd\n",
    "from sklearn.svm import LinearSVC\n",
    "import matplotlib.pyplot as plt\n",
    "import seaborn as sns\n",
    "from sklearn.feature_selection import chi2\n",
    "from sklearn.feature_selection import SelectKBest\n",
    "from sklearn.metrics import confusion_matrix, plot_confusion_matrix, accuracy_score\n",
    "from sklearn import svm\n",
    "from matplotlib.ticker import NullFormatter\n",
    "from sklearn import manifold, datasets\n",
    "from time import time\n",
    "from sklearn.model_selection import train_test_split\n",
    "from sklearn.ensemble import RandomForestClassifier\n",
    "from sklearn.feature_selection import SelectKBest\n",
    "from sklearn.feature_selection import f_classif\n",
    "from sklearn.feature_selection import RFE\n",
    "from numpy import set_printoptions"
   ]
  },
  {
   "cell_type": "code",
   "execution_count": 2,
   "id": "feeac05e",
   "metadata": {},
   "outputs": [
    {
     "data": {
      "text/plain": [
       "'/home/superuser/Dados/col7_0/ROIs_csv/ROIscol7'"
      ]
     },
     "execution_count": 2,
     "metadata": {},
     "output_type": "execute_result"
    }
   ],
   "source": [
    "INPUT = os.getcwd()\n",
    "INPUT = os.path.join(INPUT, \"ROIscol7\")\n",
    "INPUT"
   ]
  },
  {
   "cell_type": "code",
   "execution_count": 3,
   "id": "cbfda53c",
   "metadata": {},
   "outputs": [],
   "source": [
    "year = 2000\n",
    "bacia = '744'"
   ]
  },
  {
   "cell_type": "code",
   "execution_count": 4,
   "id": "b8399225",
   "metadata": {},
   "outputs": [
    {
     "name": "stdout",
     "output_type": "stream",
     "text": [
      "lindo de 0 ==> /home/superuser/Dados/col7_0/ROIs_csv/ROIscol7/744_2.csv\n",
      "lindo de 1 ==> /home/superuser/Dados/col7_0/ROIs_csv/ROIscol7/757_2.csv\n",
      "lindo de 2 ==> /home/superuser/Dados/col7_0/ROIs_csv/ROIscol7/772_2.csv\n",
      "lindo de 3 ==> /home/superuser/Dados/col7_0/ROIs_csv/ROIscol7/755_2.csv\n",
      "lindo de 4 ==> /home/superuser/Dados/col7_0/ROIs_csv/ROIscol7/754_2.csv\n",
      "lindo de 5 ==> /home/superuser/Dados/col7_0/ROIs_csv/ROIscol7/7492_2.csv\n",
      "lindo de 6 ==> /home/superuser/Dados/col7_0/ROIs_csv/ROIscol7/759_2.csv\n",
      "lindo de 7 ==> /home/superuser/Dados/col7_0/ROIs_csv/ROIscol7/7622_2.csv\n",
      "lindo de 8 ==> /home/superuser/Dados/col7_0/ROIs_csv/ROIscol7/741_2.csv\n",
      "lindo de 9 ==> /home/superuser/Dados/col7_0/ROIs_csv/ROIscol7/746_2.csv\n",
      "lindo de 10 ==> /home/superuser/Dados/col7_0/ROIs_csv/ROIscol7/758_2.csv\n",
      "lindo de 11 ==> /home/superuser/Dados/col7_0/ROIs_csv/ROIscol7/771_2.csv\n",
      "lindo de 12 ==> /home/superuser/Dados/col7_0/ROIs_csv/ROIscol7/751_2.csv\n",
      "lindo de 13 ==> /home/superuser/Dados/col7_0/ROIs_csv/ROIscol7/752_2.csv\n",
      "lindo de 14 ==> /home/superuser/Dados/col7_0/ROIs_csv/ROIscol7/7422_2.csv\n",
      "lindo de 15 ==> /home/superuser/Dados/col7_0/ROIs_csv/ROIscol7/753_2.csv\n",
      "lindo de 16 ==> /home/superuser/Dados/col7_0/ROIs_csv/ROIscol7/7421_2.csv\n",
      "lindo de 17 ==> /home/superuser/Dados/col7_0/ROIs_csv/ROIscol7/745_2.csv\n",
      "lindo de 18 ==> /home/superuser/Dados/col7_0/ROIs_csv/ROIscol7/756_2.csv\n",
      "leiu 19 de 19 no folder\n"
     ]
    }
   ],
   "source": [
    "allfiles = glob.glob(os.path.join(INPUT, \"*.csv\"))\n",
    "df_from_each_file = []\n",
    "\n",
    "zz = 0\n",
    "for cc, file in enumerate(allfiles):      \n",
    "    \n",
    "#     ls_parte = file.split('/')\n",
    "#     name_bacia = ls_parte[-1].replace('_2.csv', '')     \n",
    "    print('lindo de {} ==> {}'.format(cc ,file))\n",
    "    \n",
    "    newdf = pd.read_csv(file)     \n",
    "    newdf = newdf.drop(['system:index','.geo'], axis=1)\n",
    "    df_from_each_file.append(newdf[newdf['year'] == year])\n",
    "    zz += 1\n",
    "    \n",
    "print(\"leiu {} de {} no folder\".format(zz, len(allfiles)))"
   ]
  },
  {
   "cell_type": "code",
   "execution_count": 5,
   "id": "5124c6b8",
   "metadata": {},
   "outputs": [
    {
     "name": "stdout",
     "output_type": "stream",
     "text": [
      "temos (130265, 123) filas \n"
     ]
    },
    {
     "data": {
      "text/html": [
       "<div>\n",
       "<style scoped>\n",
       "    .dataframe tbody tr th:only-of-type {\n",
       "        vertical-align: middle;\n",
       "    }\n",
       "\n",
       "    .dataframe tbody tr th {\n",
       "        vertical-align: top;\n",
       "    }\n",
       "\n",
       "    .dataframe thead th {\n",
       "        text-align: right;\n",
       "    }\n",
       "</style>\n",
       "<table border=\"1\" class=\"dataframe\">\n",
       "  <thead>\n",
       "    <tr style=\"text-align: right;\">\n",
       "      <th></th>\n",
       "      <th>blue_median</th>\n",
       "      <th>blue_median_dry</th>\n",
       "      <th>blue_median_wet</th>\n",
       "      <th>blue_min</th>\n",
       "      <th>blue_stdDev</th>\n",
       "      <th>cai_median</th>\n",
       "      <th>cai_median_dry</th>\n",
       "      <th>cai_stdDev</th>\n",
       "      <th>class</th>\n",
       "      <th>cloud_amp</th>\n",
       "      <th>...</th>\n",
       "      <th>swir2_median</th>\n",
       "      <th>swir2_median_dry</th>\n",
       "      <th>swir2_median_wet</th>\n",
       "      <th>swir2_min</th>\n",
       "      <th>swir2_stdDev</th>\n",
       "      <th>wefi_amp</th>\n",
       "      <th>wefi_median</th>\n",
       "      <th>wefi_median_wet</th>\n",
       "      <th>wefi_stdDev</th>\n",
       "      <th>year</th>\n",
       "    </tr>\n",
       "  </thead>\n",
       "  <tbody>\n",
       "    <tr>\n",
       "      <th>0</th>\n",
       "      <td>448.0</td>\n",
       "      <td>474.0</td>\n",
       "      <td>485.0</td>\n",
       "      <td>335.0</td>\n",
       "      <td>135.0</td>\n",
       "      <td>16015.0</td>\n",
       "      <td>15976.0</td>\n",
       "      <td>1048.0</td>\n",
       "      <td>33</td>\n",
       "      <td>13.0</td>\n",
       "      <td>...</td>\n",
       "      <td>866.0</td>\n",
       "      <td>722.0</td>\n",
       "      <td>860.0</td>\n",
       "      <td>394.0</td>\n",
       "      <td>323.0</td>\n",
       "      <td>38.0</td>\n",
       "      <td>33.0</td>\n",
       "      <td>42.0</td>\n",
       "      <td>12.0</td>\n",
       "      <td>2000</td>\n",
       "    </tr>\n",
       "    <tr>\n",
       "      <th>1</th>\n",
       "      <td>237.0</td>\n",
       "      <td>391.0</td>\n",
       "      <td>185.0</td>\n",
       "      <td>152.0</td>\n",
       "      <td>106.0</td>\n",
       "      <td>14353.0</td>\n",
       "      <td>14833.0</td>\n",
       "      <td>412.0</td>\n",
       "      <td>3</td>\n",
       "      <td>4.0</td>\n",
       "      <td>...</td>\n",
       "      <td>595.0</td>\n",
       "      <td>752.0</td>\n",
       "      <td>495.0</td>\n",
       "      <td>472.0</td>\n",
       "      <td>136.0</td>\n",
       "      <td>18.0</td>\n",
       "      <td>62.0</td>\n",
       "      <td>63.0</td>\n",
       "      <td>5.0</td>\n",
       "      <td>2000</td>\n",
       "    </tr>\n",
       "    <tr>\n",
       "      <th>2</th>\n",
       "      <td>259.0</td>\n",
       "      <td>392.0</td>\n",
       "      <td>206.0</td>\n",
       "      <td>172.0</td>\n",
       "      <td>106.0</td>\n",
       "      <td>14171.0</td>\n",
       "      <td>14808.0</td>\n",
       "      <td>433.0</td>\n",
       "      <td>3</td>\n",
       "      <td>4.0</td>\n",
       "      <td>...</td>\n",
       "      <td>564.0</td>\n",
       "      <td>779.0</td>\n",
       "      <td>468.0</td>\n",
       "      <td>434.0</td>\n",
       "      <td>163.0</td>\n",
       "      <td>24.0</td>\n",
       "      <td>67.0</td>\n",
       "      <td>68.0</td>\n",
       "      <td>7.0</td>\n",
       "      <td>2000</td>\n",
       "    </tr>\n",
       "    <tr>\n",
       "      <th>3</th>\n",
       "      <td>230.0</td>\n",
       "      <td>354.0</td>\n",
       "      <td>176.0</td>\n",
       "      <td>153.0</td>\n",
       "      <td>109.0</td>\n",
       "      <td>14128.0</td>\n",
       "      <td>14561.0</td>\n",
       "      <td>522.0</td>\n",
       "      <td>3</td>\n",
       "      <td>4.0</td>\n",
       "      <td>...</td>\n",
       "      <td>520.0</td>\n",
       "      <td>731.0</td>\n",
       "      <td>423.0</td>\n",
       "      <td>379.0</td>\n",
       "      <td>146.0</td>\n",
       "      <td>22.0</td>\n",
       "      <td>64.0</td>\n",
       "      <td>66.0</td>\n",
       "      <td>7.0</td>\n",
       "      <td>2000</td>\n",
       "    </tr>\n",
       "    <tr>\n",
       "      <th>4</th>\n",
       "      <td>272.0</td>\n",
       "      <td>421.0</td>\n",
       "      <td>214.0</td>\n",
       "      <td>190.0</td>\n",
       "      <td>100.0</td>\n",
       "      <td>14623.0</td>\n",
       "      <td>15094.0</td>\n",
       "      <td>490.0</td>\n",
       "      <td>3</td>\n",
       "      <td>4.0</td>\n",
       "      <td>...</td>\n",
       "      <td>647.0</td>\n",
       "      <td>889.0</td>\n",
       "      <td>515.0</td>\n",
       "      <td>479.0</td>\n",
       "      <td>168.0</td>\n",
       "      <td>22.0</td>\n",
       "      <td>64.0</td>\n",
       "      <td>69.0</td>\n",
       "      <td>6.0</td>\n",
       "      <td>2000</td>\n",
       "    </tr>\n",
       "  </tbody>\n",
       "</table>\n",
       "<p>5 rows × 123 columns</p>\n",
       "</div>"
      ],
      "text/plain": [
       "   blue_median  blue_median_dry  blue_median_wet  blue_min  blue_stdDev  \\\n",
       "0        448.0            474.0            485.0     335.0        135.0   \n",
       "1        237.0            391.0            185.0     152.0        106.0   \n",
       "2        259.0            392.0            206.0     172.0        106.0   \n",
       "3        230.0            354.0            176.0     153.0        109.0   \n",
       "4        272.0            421.0            214.0     190.0        100.0   \n",
       "\n",
       "   cai_median  cai_median_dry  cai_stdDev  class  cloud_amp  ...  \\\n",
       "0     16015.0         15976.0      1048.0     33       13.0  ...   \n",
       "1     14353.0         14833.0       412.0      3        4.0  ...   \n",
       "2     14171.0         14808.0       433.0      3        4.0  ...   \n",
       "3     14128.0         14561.0       522.0      3        4.0  ...   \n",
       "4     14623.0         15094.0       490.0      3        4.0  ...   \n",
       "\n",
       "   swir2_median  swir2_median_dry  swir2_median_wet  swir2_min  swir2_stdDev  \\\n",
       "0         866.0             722.0             860.0      394.0         323.0   \n",
       "1         595.0             752.0             495.0      472.0         136.0   \n",
       "2         564.0             779.0             468.0      434.0         163.0   \n",
       "3         520.0             731.0             423.0      379.0         146.0   \n",
       "4         647.0             889.0             515.0      479.0         168.0   \n",
       "\n",
       "   wefi_amp  wefi_median  wefi_median_wet  wefi_stdDev  year  \n",
       "0      38.0         33.0             42.0         12.0  2000  \n",
       "1      18.0         62.0             63.0          5.0  2000  \n",
       "2      24.0         67.0             68.0          7.0  2000  \n",
       "3      22.0         64.0             66.0          7.0  2000  \n",
       "4      22.0         64.0             69.0          6.0  2000  \n",
       "\n",
       "[5 rows x 123 columns]"
      ]
     },
     "execution_count": 5,
     "metadata": {},
     "output_type": "execute_result"
    }
   ],
   "source": [
    "concat_df  = pd.concat(df_from_each_file, axis=0, ignore_index=True)\n",
    "print(\"temos {} filas \".format(concat_df.shape))\n",
    "concat_df.head()"
   ]
  },
  {
   "cell_type": "code",
   "execution_count": 7,
   "id": "1bdcc010",
   "metadata": {},
   "outputs": [
    {
     "name": "stdout",
     "output_type": "stream",
     "text": [
      "Numero de amostras  (130265, 123)\n",
      "visualizar as 5 primeiras filas \n",
      "    blue_median  blue_median_dry  blue_median_wet  blue_min  blue_stdDev  \\\n",
      "0        448.0            474.0            485.0     335.0        135.0   \n",
      "1        237.0            391.0            185.0     152.0        106.0   \n",
      "2        259.0            392.0            206.0     172.0        106.0   \n",
      "3        230.0            354.0            176.0     153.0        109.0   \n",
      "4        272.0            421.0            214.0     190.0        100.0   \n",
      "\n",
      "   cai_median  cai_median_dry  cai_stdDev  class  cloud_amp  ...  \\\n",
      "0     16015.0         15976.0      1048.0     33       13.0  ...   \n",
      "1     14353.0         14833.0       412.0      3        4.0  ...   \n",
      "2     14171.0         14808.0       433.0      3        4.0  ...   \n",
      "3     14128.0         14561.0       522.0      3        4.0  ...   \n",
      "4     14623.0         15094.0       490.0      3        4.0  ...   \n",
      "\n",
      "   swir2_median  swir2_median_dry  swir2_median_wet  swir2_min  swir2_stdDev  \\\n",
      "0         866.0             722.0             860.0      394.0         323.0   \n",
      "1         595.0             752.0             495.0      472.0         136.0   \n",
      "2         564.0             779.0             468.0      434.0         163.0   \n",
      "3         520.0             731.0             423.0      379.0         146.0   \n",
      "4         647.0             889.0             515.0      479.0         168.0   \n",
      "\n",
      "   wefi_amp  wefi_median  wefi_median_wet  wefi_stdDev  year  \n",
      "0      38.0         33.0             42.0         12.0  2000  \n",
      "1      18.0         62.0             63.0          5.0  2000  \n",
      "2      24.0         67.0             68.0          7.0  2000  \n",
      "3      22.0         64.0             66.0          7.0  2000  \n",
      "4      22.0         64.0             69.0          6.0  2000  \n",
      "\n",
      "[5 rows x 123 columns]\n"
     ]
    }
   ],
   "source": [
    "print(\"Numero de amostras \", concat_df.shape)\n",
    "print(\"visualizar as 5 primeiras filas \\n\", concat_df.head(5))"
   ]
  },
  {
   "cell_type": "code",
   "execution_count": 8,
   "id": "f5676406",
   "metadata": {},
   "outputs": [],
   "source": [
    "columns_features = [\n",
    "           \"blue_median\",\"blue_median_dry\",\"blue_median_wet\",\"blue_min\",\n",
    "            \"cai_median\",\"cai_median_dry\",\"cai_stdDev\",\n",
    "            \"cloud_max\",\"cloud_median\",\"cloud_median_dry\",\"cloud_median_wet\",\n",
    "            \"cloud_stdDev\",\"evi2_amp\",\"evi2_median\",\"evi2_median_dry\",\n",
    "            \"evi2_stdDev\",\"gcvi_median\",\"gcvi_median_dry\",\"gcvi_median_wet\",\n",
    "            \"green_median\",\"green_median_dry\",\"green_median_texture\",\"green_median_wet\",\n",
    "            \"green_stdDev\",\"gv_amp\",\"gv_max\",\"gv_median\",\n",
    "            \"gv_median_wet\",\"gv_min\",\"gv_stdDev\",\"gvs_amp\",\n",
    "            \"gvs_median\",\"gvs_median_dry\",\"gvs_median_wet\",\"gvs_min\",\n",
    "            \"hallcover_median\",\"hallcover_stdDev\", \"ndfi_amp\",\n",
    "            \"ndfi_median\",\"ndfi_median_dry\",\"ndfi_median_wet\",\"ndfi_min\",\n",
    "            \"ndvi_amp\",\"ndvi_median\",\"ndvi_median_dry\",\"ndvi_median_wet\",\n",
    "            \"ndwi_amp\",\"ndwi_median\",\"ndwi_median_dry\",\"ndwi_median_wet\",\n",
    "            \"nir_median\",\"nir_median_dry\",\"nir_median_wet\",\"nir_min\",\n",
    "            \"npv_amp\",\"npv_max\",\"npv_median\",\"npv_median_dry\",\n",
    "            \"npv_min\",\"npv_stdDev\",\"pri_median\",\"pri_median_dry\",\n",
    "            \"red_median\",\"red_median_dry\",\"red_median_wet\",\"red_min\",\n",
    "            \"savi_median\",\"savi_median_dry\",\"savi_median_wet\",\"savi_stdDev\",\n",
    "            \"sefi_median_dry\",\"sefi_stdDev\",\"shade_amp\",\"shade_max\",\n",
    "            \"shade_median_dry\",\"shade_median_wet\",\"shade_min\",\"shade_stdDev\",\n",
    "            \"slope_1\",\"soil_amp\",\"soil_max\",\"soil_median\",\n",
    "            \"soil_median_wet\",\"soil_min\",\"soil_stdDev\",\"swir1_median\",\n",
    "            \"swir1_median_wet\",\"swir1_min\",\"swir1_stdDev\",\"swir2_median\",\n",
    "            \"swir2_median_wet\",\"swir2_min\",\"swir2_stdDev\",\"wefi_amp\",          \n",
    "        ]\n",
    "classe = \"class\"\n"
   ]
  },
  {
   "cell_type": "code",
   "execution_count": 9,
   "id": "2668c036",
   "metadata": {},
   "outputs": [
    {
     "data": {
      "text/plain": [
       "94"
      ]
     },
     "execution_count": 9,
     "metadata": {},
     "output_type": "execute_result"
    }
   ],
   "source": [
    "len(columns_features)"
   ]
  },
  {
   "cell_type": "code",
   "execution_count": 75,
   "id": "4ebba5d3",
   "metadata": {},
   "outputs": [
    {
     "data": {
      "image/png": "[encoded data removed]",
      "text/plain": [
       "<Figure size 864x1008 with 2 Axes>"
      ]
     },
     "metadata": {
      "needs_background": "light"
     },
     "output_type": "display_data"
    }
   ],
   "source": [
    "plt.figure(figsize=(12, 14))\n",
    "# sns.color_palette(\"flare\", as_cmap=True)\n",
    "sns.heatmap(concat_df[columns_features].corr(),\n",
    "           annot= False, fmt= '.2f', cmap= 'Greens')  #\n",
    "plt.title(\"correlação entre variaveis bacia \" + bacia)\n",
    "plt.show()"
   ]
  },
  {
   "cell_type": "code",
   "execution_count": 11,
   "id": "cefa0b80",
   "metadata": {},
   "outputs": [],
   "source": [
    "varCorr = concat_df[columns_features].corr()"
   ]
  },
  {
   "cell_type": "code",
   "execution_count": 12,
   "id": "aa7db246",
   "metadata": {},
   "outputs": [
    {
     "data": {
      "text/html": [
       "<div>\n",
       "<style scoped>\n",
       "    .dataframe tbody tr th:only-of-type {\n",
       "        vertical-align: middle;\n",
       "    }\n",
       "\n",
       "    .dataframe tbody tr th {\n",
       "        vertical-align: top;\n",
       "    }\n",
       "\n",
       "    .dataframe thead th {\n",
       "        text-align: right;\n",
       "    }\n",
       "</style>\n",
       "<table border=\"1\" class=\"dataframe\">\n",
       "  <thead>\n",
       "    <tr style=\"text-align: right;\">\n",
       "      <th></th>\n",
       "      <th>blue_median</th>\n",
       "      <th>blue_median_dry</th>\n",
       "      <th>blue_median_wet</th>\n",
       "      <th>blue_min</th>\n",
       "      <th>cai_median</th>\n",
       "      <th>cai_median_dry</th>\n",
       "      <th>cai_stdDev</th>\n",
       "      <th>cloud_max</th>\n",
       "      <th>cloud_median</th>\n",
       "      <th>cloud_median_dry</th>\n",
       "      <th>...</th>\n",
       "      <th>soil_stdDev</th>\n",
       "      <th>swir1_median</th>\n",
       "      <th>swir1_median_wet</th>\n",
       "      <th>swir1_min</th>\n",
       "      <th>swir1_stdDev</th>\n",
       "      <th>swir2_median</th>\n",
       "      <th>swir2_median_wet</th>\n",
       "      <th>swir2_min</th>\n",
       "      <th>swir2_stdDev</th>\n",
       "      <th>wefi_amp</th>\n",
       "    </tr>\n",
       "  </thead>\n",
       "  <tbody>\n",
       "    <tr>\n",
       "      <th>blue_median</th>\n",
       "      <td>1.000000</td>\n",
       "      <td>0.952121</td>\n",
       "      <td>0.937087</td>\n",
       "      <td>0.917434</td>\n",
       "      <td>0.857471</td>\n",
       "      <td>0.826285</td>\n",
       "      <td>-0.084181</td>\n",
       "      <td>0.452282</td>\n",
       "      <td>0.359354</td>\n",
       "      <td>0.284396</td>\n",
       "      <td>...</td>\n",
       "      <td>0.622449</td>\n",
       "      <td>0.882483</td>\n",
       "      <td>0.874606</td>\n",
       "      <td>0.792013</td>\n",
       "      <td>0.540529</td>\n",
       "      <td>0.921958</td>\n",
       "      <td>0.864914</td>\n",
       "      <td>0.804231</td>\n",
       "      <td>0.626846</td>\n",
       "      <td>0.121314</td>\n",
       "    </tr>\n",
       "    <tr>\n",
       "      <th>blue_median_dry</th>\n",
       "      <td>0.952121</td>\n",
       "      <td>1.000000</td>\n",
       "      <td>0.854447</td>\n",
       "      <td>0.832407</td>\n",
       "      <td>0.782911</td>\n",
       "      <td>0.772665</td>\n",
       "      <td>0.031538</td>\n",
       "      <td>0.450967</td>\n",
       "      <td>0.313198</td>\n",
       "      <td>0.242726</td>\n",
       "      <td>...</td>\n",
       "      <td>0.710222</td>\n",
       "      <td>0.877075</td>\n",
       "      <td>0.814801</td>\n",
       "      <td>0.724744</td>\n",
       "      <td>0.669649</td>\n",
       "      <td>0.885238</td>\n",
       "      <td>0.768962</td>\n",
       "      <td>0.698308</td>\n",
       "      <td>0.737555</td>\n",
       "      <td>0.237896</td>\n",
       "    </tr>\n",
       "    <tr>\n",
       "      <th>blue_median_wet</th>\n",
       "      <td>0.937087</td>\n",
       "      <td>0.854447</td>\n",
       "      <td>1.000000</td>\n",
       "      <td>0.977862</td>\n",
       "      <td>0.827286</td>\n",
       "      <td>0.789530</td>\n",
       "      <td>-0.287601</td>\n",
       "      <td>0.489367</td>\n",
       "      <td>0.450036</td>\n",
       "      <td>0.389625</td>\n",
       "      <td>...</td>\n",
       "      <td>0.417829</td>\n",
       "      <td>0.785019</td>\n",
       "      <td>0.880720</td>\n",
       "      <td>0.813009</td>\n",
       "      <td>0.333484</td>\n",
       "      <td>0.853252</td>\n",
       "      <td>0.923271</td>\n",
       "      <td>0.884734</td>\n",
       "      <td>0.413336</td>\n",
       "      <td>-0.100759</td>\n",
       "    </tr>\n",
       "    <tr>\n",
       "      <th>blue_min</th>\n",
       "      <td>0.917434</td>\n",
       "      <td>0.832407</td>\n",
       "      <td>0.977862</td>\n",
       "      <td>1.000000</td>\n",
       "      <td>0.800922</td>\n",
       "      <td>0.763883</td>\n",
       "      <td>-0.326657</td>\n",
       "      <td>0.457283</td>\n",
       "      <td>0.453424</td>\n",
       "      <td>0.396446</td>\n",
       "      <td>...</td>\n",
       "      <td>0.375468</td>\n",
       "      <td>0.761698</td>\n",
       "      <td>0.868732</td>\n",
       "      <td>0.833342</td>\n",
       "      <td>0.285664</td>\n",
       "      <td>0.827944</td>\n",
       "      <td>0.911673</td>\n",
       "      <td>0.898775</td>\n",
       "      <td>0.367641</td>\n",
       "      <td>-0.137727</td>\n",
       "    </tr>\n",
       "    <tr>\n",
       "      <th>cai_median</th>\n",
       "      <td>0.857471</td>\n",
       "      <td>0.782911</td>\n",
       "      <td>0.827286</td>\n",
       "      <td>0.800922</td>\n",
       "      <td>1.000000</td>\n",
       "      <td>0.960667</td>\n",
       "      <td>-0.049401</td>\n",
       "      <td>0.283456</td>\n",
       "      <td>0.196362</td>\n",
       "      <td>0.131768</td>\n",
       "      <td>...</td>\n",
       "      <td>0.566570</td>\n",
       "      <td>0.778209</td>\n",
       "      <td>0.782854</td>\n",
       "      <td>0.714370</td>\n",
       "      <td>0.415850</td>\n",
       "      <td>0.887842</td>\n",
       "      <td>0.844030</td>\n",
       "      <td>0.799835</td>\n",
       "      <td>0.536161</td>\n",
       "      <td>0.076377</td>\n",
       "    </tr>\n",
       "    <tr>\n",
       "      <th>...</th>\n",
       "      <td>...</td>\n",
       "      <td>...</td>\n",
       "      <td>...</td>\n",
       "      <td>...</td>\n",
       "      <td>...</td>\n",
       "      <td>...</td>\n",
       "      <td>...</td>\n",
       "      <td>...</td>\n",
       "      <td>...</td>\n",
       "      <td>...</td>\n",
       "      <td>...</td>\n",
       "      <td>...</td>\n",
       "      <td>...</td>\n",
       "      <td>...</td>\n",
       "      <td>...</td>\n",
       "      <td>...</td>\n",
       "      <td>...</td>\n",
       "      <td>...</td>\n",
       "      <td>...</td>\n",
       "      <td>...</td>\n",
       "      <td>...</td>\n",
       "    </tr>\n",
       "    <tr>\n",
       "      <th>swir2_median</th>\n",
       "      <td>0.921958</td>\n",
       "      <td>0.885238</td>\n",
       "      <td>0.853252</td>\n",
       "      <td>0.827944</td>\n",
       "      <td>0.887842</td>\n",
       "      <td>0.850294</td>\n",
       "      <td>-0.052938</td>\n",
       "      <td>0.246005</td>\n",
       "      <td>0.093825</td>\n",
       "      <td>0.028781</td>\n",
       "      <td>...</td>\n",
       "      <td>0.718457</td>\n",
       "      <td>0.970065</td>\n",
       "      <td>0.929815</td>\n",
       "      <td>0.856224</td>\n",
       "      <td>0.601471</td>\n",
       "      <td>1.000000</td>\n",
       "      <td>0.896516</td>\n",
       "      <td>0.834191</td>\n",
       "      <td>0.696906</td>\n",
       "      <td>0.186552</td>\n",
       "    </tr>\n",
       "    <tr>\n",
       "      <th>swir2_median_wet</th>\n",
       "      <td>0.864914</td>\n",
       "      <td>0.768962</td>\n",
       "      <td>0.923271</td>\n",
       "      <td>0.911673</td>\n",
       "      <td>0.844030</td>\n",
       "      <td>0.805089</td>\n",
       "      <td>-0.367964</td>\n",
       "      <td>0.297188</td>\n",
       "      <td>0.226605</td>\n",
       "      <td>0.199439</td>\n",
       "      <td>...</td>\n",
       "      <td>0.407150</td>\n",
       "      <td>0.828186</td>\n",
       "      <td>0.950851</td>\n",
       "      <td>0.898745</td>\n",
       "      <td>0.294306</td>\n",
       "      <td>0.896516</td>\n",
       "      <td>1.000000</td>\n",
       "      <td>0.965508</td>\n",
       "      <td>0.382463</td>\n",
       "      <td>-0.141995</td>\n",
       "    </tr>\n",
       "    <tr>\n",
       "      <th>swir2_min</th>\n",
       "      <td>0.804231</td>\n",
       "      <td>0.698308</td>\n",
       "      <td>0.884734</td>\n",
       "      <td>0.898775</td>\n",
       "      <td>0.799835</td>\n",
       "      <td>0.765952</td>\n",
       "      <td>-0.429113</td>\n",
       "      <td>0.231288</td>\n",
       "      <td>0.206720</td>\n",
       "      <td>0.185893</td>\n",
       "      <td>...</td>\n",
       "      <td>0.311019</td>\n",
       "      <td>0.763298</td>\n",
       "      <td>0.913499</td>\n",
       "      <td>0.930081</td>\n",
       "      <td>0.179561</td>\n",
       "      <td>0.834191</td>\n",
       "      <td>0.965508</td>\n",
       "      <td>1.000000</td>\n",
       "      <td>0.275263</td>\n",
       "      <td>-0.204128</td>\n",
       "    </tr>\n",
       "    <tr>\n",
       "      <th>swir2_stdDev</th>\n",
       "      <td>0.626846</td>\n",
       "      <td>0.737555</td>\n",
       "      <td>0.413336</td>\n",
       "      <td>0.367641</td>\n",
       "      <td>0.536161</td>\n",
       "      <td>0.572791</td>\n",
       "      <td>0.485922</td>\n",
       "      <td>0.137727</td>\n",
       "      <td>-0.098007</td>\n",
       "      <td>-0.223569</td>\n",
       "      <td>...</td>\n",
       "      <td>0.970218</td>\n",
       "      <td>0.759712</td>\n",
       "      <td>0.517816</td>\n",
       "      <td>0.404229</td>\n",
       "      <td>0.959657</td>\n",
       "      <td>0.696906</td>\n",
       "      <td>0.382463</td>\n",
       "      <td>0.275263</td>\n",
       "      <td>1.000000</td>\n",
       "      <td>0.605791</td>\n",
       "    </tr>\n",
       "    <tr>\n",
       "      <th>wefi_amp</th>\n",
       "      <td>0.121314</td>\n",
       "      <td>0.237896</td>\n",
       "      <td>-0.100759</td>\n",
       "      <td>-0.137727</td>\n",
       "      <td>0.076377</td>\n",
       "      <td>0.138546</td>\n",
       "      <td>0.794420</td>\n",
       "      <td>-0.089735</td>\n",
       "      <td>-0.265289</td>\n",
       "      <td>-0.375689</td>\n",
       "      <td>...</td>\n",
       "      <td>0.644082</td>\n",
       "      <td>0.275465</td>\n",
       "      <td>0.054524</td>\n",
       "      <td>0.007169</td>\n",
       "      <td>0.542291</td>\n",
       "      <td>0.186552</td>\n",
       "      <td>-0.141995</td>\n",
       "      <td>-0.204128</td>\n",
       "      <td>0.605791</td>\n",
       "      <td>1.000000</td>\n",
       "    </tr>\n",
       "  </tbody>\n",
       "</table>\n",
       "<p>94 rows × 94 columns</p>\n",
       "</div>"
      ],
      "text/plain": [
       "                  blue_median  blue_median_dry  blue_median_wet  blue_min  \\\n",
       "blue_median          1.000000         0.952121         0.937087  0.917434   \n",
       "blue_median_dry      0.952121         1.000000         0.854447  0.832407   \n",
       "blue_median_wet      0.937087         0.854447         1.000000  0.977862   \n",
       "blue_min             0.917434         0.832407         0.977862  1.000000   \n",
       "cai_median           0.857471         0.782911         0.827286  0.800922   \n",
       "...                       ...              ...              ...       ...   \n",
       "swir2_median         0.921958         0.885238         0.853252  0.827944   \n",
       "swir2_median_wet     0.864914         0.768962         0.923271  0.911673   \n",
       "swir2_min            0.804231         0.698308         0.884734  0.898775   \n",
       "swir2_stdDev         0.626846         0.737555         0.413336  0.367641   \n",
       "wefi_amp             0.121314         0.237896        -0.100759 -0.137727   \n",
       "\n",
       "                  cai_median  cai_median_dry  cai_stdDev  cloud_max  \\\n",
       "blue_median         0.857471        0.826285   -0.084181   0.452282   \n",
       "blue_median_dry     0.782911        0.772665    0.031538   0.450967   \n",
       "blue_median_wet     0.827286        0.789530   -0.287601   0.489367   \n",
       "blue_min            0.800922        0.763883   -0.326657   0.457283   \n",
       "cai_median          1.000000        0.960667   -0.049401   0.283456   \n",
       "...                      ...             ...         ...        ...   \n",
       "swir2_median        0.887842        0.850294   -0.052938   0.246005   \n",
       "swir2_median_wet    0.844030        0.805089   -0.367964   0.297188   \n",
       "swir2_min           0.799835        0.765952   -0.429113   0.231288   \n",
       "swir2_stdDev        0.536161        0.572791    0.485922   0.137727   \n",
       "wefi_amp            0.076377        0.138546    0.794420  -0.089735   \n",
       "\n",
       "                  cloud_median  cloud_median_dry  ...  soil_stdDev  \\\n",
       "blue_median           0.359354          0.284396  ...     0.622449   \n",
       "blue_median_dry       0.313198          0.242726  ...     0.710222   \n",
       "blue_median_wet       0.450036          0.389625  ...     0.417829   \n",
       "blue_min              0.453424          0.396446  ...     0.375468   \n",
       "cai_median            0.196362          0.131768  ...     0.566570   \n",
       "...                        ...               ...  ...          ...   \n",
       "swir2_median          0.093825          0.028781  ...     0.718457   \n",
       "swir2_median_wet      0.226605          0.199439  ...     0.407150   \n",
       "swir2_min             0.206720          0.185893  ...     0.311019   \n",
       "swir2_stdDev         -0.098007         -0.223569  ...     0.970218   \n",
       "wefi_amp             -0.265289         -0.375689  ...     0.644082   \n",
       "\n",
       "                  swir1_median  swir1_median_wet  swir1_min  swir1_stdDev  \\\n",
       "blue_median           0.882483          0.874606   0.792013      0.540529   \n",
       "blue_median_dry       0.877075          0.814801   0.724744      0.669649   \n",
       "blue_median_wet       0.785019          0.880720   0.813009      0.333484   \n",
       "blue_min              0.761698          0.868732   0.833342      0.285664   \n",
       "cai_median            0.778209          0.782854   0.714370      0.415850   \n",
       "...                        ...               ...        ...           ...   \n",
       "swir2_median          0.970065          0.929815   0.856224      0.601471   \n",
       "swir2_median_wet      0.828186          0.950851   0.898745      0.294306   \n",
       "swir2_min             0.763298          0.913499   0.930081      0.179561   \n",
       "swir2_stdDev          0.759712          0.517816   0.404229      0.959657   \n",
       "wefi_amp              0.275465          0.054524   0.007169      0.542291   \n",
       "\n",
       "                  swir2_median  swir2_median_wet  swir2_min  swir2_stdDev  \\\n",
       "blue_median           0.921958          0.864914   0.804231      0.626846   \n",
       "blue_median_dry       0.885238          0.768962   0.698308      0.737555   \n",
       "blue_median_wet       0.853252          0.923271   0.884734      0.413336   \n",
       "blue_min              0.827944          0.911673   0.898775      0.367641   \n",
       "cai_median            0.887842          0.844030   0.799835      0.536161   \n",
       "...                        ...               ...        ...           ...   \n",
       "swir2_median          1.000000          0.896516   0.834191      0.696906   \n",
       "swir2_median_wet      0.896516          1.000000   0.965508      0.382463   \n",
       "swir2_min             0.834191          0.965508   1.000000      0.275263   \n",
       "swir2_stdDev          0.696906          0.382463   0.275263      1.000000   \n",
       "wefi_amp              0.186552         -0.141995  -0.204128      0.605791   \n",
       "\n",
       "                  wefi_amp  \n",
       "blue_median       0.121314  \n",
       "blue_median_dry   0.237896  \n",
       "blue_median_wet  -0.100759  \n",
       "blue_min         -0.137727  \n",
       "cai_median        0.076377  \n",
       "...                    ...  \n",
       "swir2_median      0.186552  \n",
       "swir2_median_wet -0.141995  \n",
       "swir2_min        -0.204128  \n",
       "swir2_stdDev      0.605791  \n",
       "wefi_amp          1.000000  \n",
       "\n",
       "[94 rows x 94 columns]"
      ]
     },
     "execution_count": 12,
     "metadata": {},
     "output_type": "execute_result"
    }
   ],
   "source": [
    "varCorr"
   ]
  },
  {
   "cell_type": "code",
   "execution_count": 13,
   "id": "a6c4451f",
   "metadata": {},
   "outputs": [
    {
     "data": {
      "text/plain": [
       "pandas.core.frame.DataFrame"
      ]
     },
     "execution_count": 13,
     "metadata": {},
     "output_type": "execute_result"
    }
   ],
   "source": [
    "type(varCorr)"
   ]
  },
  {
   "cell_type": "code",
   "execution_count": 29,
   "id": "ee98ecc3",
   "metadata": {},
   "outputs": [],
   "source": [
    " cor_matrix = concat_df[columns_features].corr().abs()\n",
    "#  print(cor_matrix)"
   ]
  },
  {
   "cell_type": "code",
   "execution_count": 30,
   "id": "6d49b2f3",
   "metadata": {},
   "outputs": [
    {
     "name": "stdout",
     "output_type": "stream",
     "text": [
      "                  blue_median  blue_median_dry  blue_median_wet  blue_min  \\\n",
      "blue_median               NaN         0.952121         0.937087  0.917434   \n",
      "blue_median_dry           NaN              NaN         0.854447  0.832407   \n",
      "blue_median_wet           NaN              NaN              NaN  0.977862   \n",
      "blue_min                  NaN              NaN              NaN       NaN   \n",
      "cai_median                NaN              NaN              NaN       NaN   \n",
      "...                       ...              ...              ...       ...   \n",
      "swir2_median              NaN              NaN              NaN       NaN   \n",
      "swir2_median_wet          NaN              NaN              NaN       NaN   \n",
      "swir2_min                 NaN              NaN              NaN       NaN   \n",
      "swir2_stdDev              NaN              NaN              NaN       NaN   \n",
      "wefi_amp                  NaN              NaN              NaN       NaN   \n",
      "\n",
      "                  cai_median  cai_median_dry  cai_stdDev  cloud_max  \\\n",
      "blue_median         0.857471        0.826285    0.084181   0.452282   \n",
      "blue_median_dry     0.782911        0.772665    0.031538   0.450967   \n",
      "blue_median_wet     0.827286        0.789530    0.287601   0.489367   \n",
      "blue_min            0.800922        0.763883    0.326657   0.457283   \n",
      "cai_median               NaN        0.960667    0.049401   0.283456   \n",
      "...                      ...             ...         ...        ...   \n",
      "swir2_median             NaN             NaN         NaN        NaN   \n",
      "swir2_median_wet         NaN             NaN         NaN        NaN   \n",
      "swir2_min                NaN             NaN         NaN        NaN   \n",
      "swir2_stdDev             NaN             NaN         NaN        NaN   \n",
      "wefi_amp                 NaN             NaN         NaN        NaN   \n",
      "\n",
      "                  cloud_median  cloud_median_dry  ...  soil_stdDev  \\\n",
      "blue_median           0.359354          0.284396  ...     0.622449   \n",
      "blue_median_dry       0.313198          0.242726  ...     0.710222   \n",
      "blue_median_wet       0.450036          0.389625  ...     0.417829   \n",
      "blue_min              0.453424          0.396446  ...     0.375468   \n",
      "cai_median            0.196362          0.131768  ...     0.566570   \n",
      "...                        ...               ...  ...          ...   \n",
      "swir2_median               NaN               NaN  ...          NaN   \n",
      "swir2_median_wet           NaN               NaN  ...          NaN   \n",
      "swir2_min                  NaN               NaN  ...          NaN   \n",
      "swir2_stdDev               NaN               NaN  ...          NaN   \n",
      "wefi_amp                   NaN               NaN  ...          NaN   \n",
      "\n",
      "                  swir1_median  swir1_median_wet  swir1_min  swir1_stdDev  \\\n",
      "blue_median           0.882483          0.874606   0.792013      0.540529   \n",
      "blue_median_dry       0.877075          0.814801   0.724744      0.669649   \n",
      "blue_median_wet       0.785019          0.880720   0.813009      0.333484   \n",
      "blue_min              0.761698          0.868732   0.833342      0.285664   \n",
      "cai_median            0.778209          0.782854   0.714370      0.415850   \n",
      "...                        ...               ...        ...           ...   \n",
      "swir2_median               NaN               NaN        NaN           NaN   \n",
      "swir2_median_wet           NaN               NaN        NaN           NaN   \n",
      "swir2_min                  NaN               NaN        NaN           NaN   \n",
      "swir2_stdDev               NaN               NaN        NaN           NaN   \n",
      "wefi_amp                   NaN               NaN        NaN           NaN   \n",
      "\n",
      "                  swir2_median  swir2_median_wet  swir2_min  swir2_stdDev  \\\n",
      "blue_median           0.921958          0.864914   0.804231      0.626846   \n",
      "blue_median_dry       0.885238          0.768962   0.698308      0.737555   \n",
      "blue_median_wet       0.853252          0.923271   0.884734      0.413336   \n",
      "blue_min              0.827944          0.911673   0.898775      0.367641   \n",
      "cai_median            0.887842          0.844030   0.799835      0.536161   \n",
      "...                        ...               ...        ...           ...   \n",
      "swir2_median               NaN          0.896516   0.834191      0.696906   \n",
      "swir2_median_wet           NaN               NaN   0.965508      0.382463   \n",
      "swir2_min                  NaN               NaN        NaN      0.275263   \n",
      "swir2_stdDev               NaN               NaN        NaN           NaN   \n",
      "wefi_amp                   NaN               NaN        NaN           NaN   \n",
      "\n",
      "                  wefi_amp  \n",
      "blue_median       0.121314  \n",
      "blue_median_dry   0.237896  \n",
      "blue_median_wet   0.100759  \n",
      "blue_min          0.137727  \n",
      "cai_median        0.076377  \n",
      "...                    ...  \n",
      "swir2_median      0.186552  \n",
      "swir2_median_wet  0.141995  \n",
      "swir2_min         0.204128  \n",
      "swir2_stdDev      0.605791  \n",
      "wefi_amp               NaN  \n",
      "\n",
      "[94 rows x 94 columns]\n"
     ]
    },
    {
     "name": "stderr",
     "output_type": "stream",
     "text": [
      "/tmp/ipykernel_80079/3477284062.py:1: DeprecationWarning: `np.bool` is a deprecated alias for the builtin `bool`. To silence this warning, use `bool` by itself. Doing this will not modify any behavior and is safe. If you specifically wanted the numpy scalar type, use `np.bool_` here.\n",
      "Deprecated in NumPy 1.20; for more details and guidance: https://numpy.org/devdocs/release/1.20.0-notes.html#deprecations\n",
      "  upper_tri = cor_matrix.where(np.triu(np.ones(cor_matrix.shape),k=1).astype(np.bool))\n"
     ]
    }
   ],
   "source": [
    "upper_tri = cor_matrix.where(np.triu(np.ones(cor_matrix.shape),k=1).astype(np.bool))\n",
    "print(upper_tri)"
   ]
  },
  {
   "cell_type": "markdown",
   "id": "4ca3544a",
   "metadata": {},
   "source": [
    "### Step 5 - Droping the column with high correlation\n",
    "\n",
    "So we are selecting the columns which are having absolute correlation greater than 0.95 and making a list of those columns named 'to_drop'. "
   ]
  },
  {
   "cell_type": "code",
   "execution_count": 35,
   "id": "c020cbff",
   "metadata": {},
   "outputs": [
    {
     "name": "stdout",
     "output_type": "stream",
     "text": [
      "\n",
      "['blue_median_dry', 'blue_median_wet', 'blue_min', 'cai_median_dry', 'evi2_median_dry', 'evi2_stdDev', 'gcvi_median', 'gcvi_median_dry', 'green_median', 'green_median_dry', 'green_median_wet', 'gv_amp', 'gv_median', 'gv_median_wet', 'gv_min', 'gv_stdDev', 'gvs_median', 'gvs_median_dry', 'gvs_min', 'hallcover_median', 'ndfi_amp', 'ndfi_median', 'ndfi_median_dry', 'ndfi_median_wet', 'ndfi_min', 'ndvi_amp', 'ndvi_median', 'ndvi_median_dry', 'ndvi_median_wet', 'ndwi_amp', 'ndwi_median', 'ndwi_median_dry', 'ndwi_median_wet', 'nir_median_dry', 'npv_median', 'npv_median_dry', 'npv_stdDev', 'red_median', 'red_median_dry', 'red_median_wet', 'red_min', 'savi_median', 'savi_median_dry', 'savi_median_wet', 'savi_stdDev', 'sefi_median_dry', 'sefi_stdDev', 'shade_median_wet', 'shade_min', 'shade_stdDev', 'soil_amp', 'soil_max', 'soil_median', 'soil_median_wet', 'soil_min', 'soil_stdDev', 'swir1_median', 'swir1_median_wet', 'swir1_min', 'swir1_stdDev', 'swir2_median', 'swir2_median_wet', 'swir2_min', 'swir2_stdDev', 'wefi_amp']\n"
     ]
    }
   ],
   "source": [
    "to_drop = [column for column in upper_tri.columns if any(upper_tri[column] > 0.9)]\n",
    "print(); print(to_drop)"
   ]
  },
  {
   "cell_type": "code",
   "execution_count": 37,
   "id": "c9d34bb8",
   "metadata": {},
   "outputs": [
    {
     "name": "stdout",
     "output_type": "stream",
     "text": [
      "0.8532518878368219\n",
      "blue_median         0.921958\n",
      "blue_median_dry     0.885238\n",
      "blue_median_wet     0.853252\n",
      "blue_min            0.827944\n",
      "cai_median          0.887842\n",
      "                      ...   \n",
      "swir2_median             NaN\n",
      "swir2_median_wet         NaN\n",
      "swir2_min                NaN\n",
      "swir2_stdDev             NaN\n",
      "wefi_amp                 NaN\n",
      "Name: swir2_median, Length: 94, dtype: float64\n"
     ]
    }
   ],
   "source": [
    "print(upper_tri['swir2_median']['blue_median_wet'])\n",
    "print(upper_tri['swir2_median'])"
   ]
  },
  {
   "cell_type": "code",
   "execution_count": 41,
   "id": "3f942c16",
   "metadata": {},
   "outputs": [
    {
     "name": "stdout",
     "output_type": "stream",
     "text": [
      "\n",
      "   blue_median  blue_stdDev  cai_median  cai_stdDev  class  cloud_amp  \\\n",
      "0        448.0        135.0     16015.0      1048.0     33       13.0   \n",
      "1        237.0        106.0     14353.0       412.0      3        4.0   \n",
      "2        259.0        106.0     14171.0       433.0      3        4.0   \n",
      "3        230.0        109.0     14128.0       522.0      3        4.0   \n",
      "4        272.0        100.0     14623.0       490.0      3        4.0   \n",
      "\n",
      "   cloud_max  cloud_median  cloud_median_dry  cloud_median_wet  ...  \\\n",
      "0       18.0           9.0              11.0               8.0  ...   \n",
      "1        5.0           2.0               4.0               1.0  ...   \n",
      "2        6.0           3.0               4.0               2.0  ...   \n",
      "3        5.0           2.0               3.0               1.0  ...   \n",
      "4        5.0           2.0               4.0               2.0  ...   \n",
      "\n",
      "   shade_median_dry   slope    slope_1  soil_median_dry  swir1_median_dry  \\\n",
      "0              89.0   464.0   4.647021              0.0            1174.0   \n",
      "1              66.0   703.0   7.035122              2.0            1547.0   \n",
      "2              64.0   279.0   2.797336              2.0            1610.0   \n",
      "3              65.0  1119.0  11.199739              3.0            1552.0   \n",
      "4              65.0   919.0   9.195146              3.0            1736.0   \n",
      "\n",
      "   swir2_median_dry  wefi_median  wefi_median_wet  wefi_stdDev  year  \n",
      "0             722.0         33.0             42.0         12.0  2000  \n",
      "1             752.0         62.0             63.0          5.0  2000  \n",
      "2             779.0         67.0             68.0          7.0  2000  \n",
      "3             731.0         64.0             66.0          7.0  2000  \n",
      "4             889.0         64.0             69.0          6.0  2000  \n",
      "\n",
      "[5 rows x 58 columns]\n"
     ]
    }
   ],
   "source": [
    "# Now we are droping the columns which are in the list 'to_drop' from the dataframe\n",
    "\n",
    "df1 = concat_df.drop(to_drop, axis=1)\n",
    "print(); print(df1.head())"
   ]
  },
  {
   "cell_type": "code",
   "execution_count": 42,
   "id": "1c44fcd7",
   "metadata": {},
   "outputs": [
    {
     "data": {
      "text/plain": [
       "array([0.00756178991912513  , 0.006381940850386373 ,\n",
       "       0.024271991279236765 , 0.03739448147599082  ,\n",
       "       0.009461399726251395 , 0.015500400749705863 ,\n",
       "       0.005271560903154462 , 0.0033566355706222406,\n",
       "       0.0017664112015075971, 0.0018505090292857693,\n",
       "       0.0020441896397825634, 0.0009125537691866863,\n",
       "       0.006455188679162503 , 0.0255621495075806   ,\n",
       "       0.00486069563080424  , 0.014025296677206665 ,\n",
       "       0.010962921631452831 , 0.008048098368681674 ,\n",
       "       0.01356370359859068  , 0.030140544408271817 ,\n",
       "       0.018859892803102473 , 0.016493752282227804 ,\n",
       "       0.009687459500538852 , 0.006769329344023761 ,\n",
       "       0.006173608354787815 , 0.0052400690557198445,\n",
       "       0.04089551195238214  , 0.004505884216200622 ,\n",
       "       0.0026453600454998615, 0.008096046748855732 ,\n",
       "       0.005138465397945938 , 0.011627632000336622 ,\n",
       "       0.00332223958266871  , 0.008527152716352598 ,\n",
       "       0.003814604788820129 , 0.028148385275249852 ,\n",
       "       0.0074687262354976355, 0.005968661804743149 ,\n",
       "       0.0062423937893359895, 0.0038900436073785348,\n",
       "       0.009573802162508584 , 0.005106059465376589 ,\n",
       "       0.007545244660634267 , 0.009087995227362377 ,\n",
       "       0.005854399028451649 , 0.010152592642509136 ,\n",
       "       0.011633251122333214 , 0.014388650799227205 ,\n",
       "       0.00600939787479434  , 0.014114197967089485 ,\n",
       "       0.01833418149179127  , 0.014057444745991398 ,\n",
       "       0.009763471538575468 , 0.009430116985227659 ,\n",
       "       0.002612801186381555 , 0.004688810010392165 ,\n",
       "       0.0063003896429917675, 0.004168988415899342 ,\n",
       "       0.006521611492332145 , 0.0009396041904633095,\n",
       "       0.009342181102422168 , 0.007890389318506934 ,\n",
       "       0.02141329701639227  , 0.024785111496926287 ,\n",
       "       0.04908327668211501  , 0.06095248408146535  ,\n",
       "       0.02469062463366527  , 0.0045628362995756245,\n",
       "       0.006041536866329393 , 0.010822295273933207 ,\n",
       "       0.007230714964393006 , 0.007743166606488739 ,\n",
       "       0.004592438839239528 , 0.004775302142840008 ,\n",
       "       0.007699081029377901 , 0.005763714194946124 ,\n",
       "       0.012813728038522033 , 0.002588241716554269 ,\n",
       "       0.009284238743820814 , 0.005381855384157102 ,\n",
       "       0.020505845257835623 , 0.005893617839907118 ,\n",
       "       0.0034213399457969705, 0.0029829067915605268,\n",
       "       0.004468601552568852 , 0.009384897135445335 ,\n",
       "       0.004695768386076881 , 0.006384779921604849 ,\n",
       "       0.00593142383195169  , 0.014000870854751463 ,\n",
       "       0.008480646579499238 , 0.010792095556407364 ,\n",
       "       0.008065163927044117 , 0.004344835219891406 ])"
      ]
     },
     "execution_count": 42,
     "metadata": {},
     "output_type": "execute_result"
    }
   ],
   "source": [
    "X = concat_df[columns_features]\n",
    "y = concat_df['class']\n",
    "\n",
    "X_train, X_test, y_train, y_test = train_test_split(X, y, random_state=42)# Treinando modelo\n",
    "model  = RandomForestClassifier(\n",
    "                            n_estimators=85, \n",
    "                            max_features=25)\n",
    "model.fit(X_train, y_train)# Mostrando importância de cada feature\n",
    "# model.feature_importances_"
   ]
  },
  {
   "cell_type": "code",
   "execution_count": 48,
   "id": "734ccb09",
   "metadata": {},
   "outputs": [],
   "source": [
    "y_pred = model.predict(X_test[columns_features])"
   ]
  },
  {
   "cell_type": "code",
   "execution_count": 51,
   "id": "be9ad3ff",
   "metadata": {},
   "outputs": [
    {
     "data": {
      "text/plain": [
       "array([[ 2961,    61,     0,     0,     0,     1,     0],\n",
       "       [   43, 22832,    31,    11,    28,     0,     0],\n",
       "       [    0,    41,  2160,     0,    14,     2,     0],\n",
       "       [    2,    27,     2,  1093,    57,     4,     0],\n",
       "       [    1,    85,     9,    24,  2511,     3,     0],\n",
       "       [    0,     1,     0,     6,    11,   484,     0],\n",
       "       [    0,     1,     0,     0,     0,     0,    61]])"
      ]
     },
     "execution_count": 51,
     "metadata": {},
     "output_type": "execute_result"
    }
   ],
   "source": [
    "matrix = confusion_matrix(y_test, y_pred)\n",
    "matrix"
   ]
  },
  {
   "cell_type": "code",
   "execution_count": 60,
   "id": "d8a38673",
   "metadata": {},
   "outputs": [
    {
     "name": "stderr",
     "output_type": "stream",
     "text": [
      "/home/superuser/.local/lib/python3.10/site-packages/sklearn/utils/deprecation.py:87: FutureWarning: Function plot_confusion_matrix is deprecated; Function `plot_confusion_matrix` is deprecated in 1.0 and will be removed in 1.2. Use one of the class methods: ConfusionMatrixDisplay.from_predictions or ConfusionMatrixDisplay.from_estimator.\n",
      "  warnings.warn(msg, category=FutureWarning)\n"
     ]
    },
    {
     "data": {
      "image/png": "[encoded data removed]",
      "text/plain": [
       "<Figure size 720x720 with 2 Axes>"
      ]
     },
     "metadata": {
      "needs_background": "light"
     },
     "output_type": "display_data"
    }
   ],
   "source": [
    "fig, ax = plt.subplots(figsize=(10, 10))\n",
    "plot_confusion_matrix(model, X_test[columns_features], y_test, ax=ax) \n",
    "plt.show()  "
   ]
  },
  {
   "cell_type": "code",
   "execution_count": 61,
   "id": "ffdfbfb1",
   "metadata": {},
   "outputs": [
    {
     "name": "stdout",
     "output_type": "stream",
     "text": [
      "Acurcia geral ====>  0.985721742868548\n"
     ]
    }
   ],
   "source": [
    "varlorAcc = accuracy_score(y_test, y_pred)\n",
    "print(\"Acurcia geral ====>  {}\".format(varlorAcc))"
   ]
  },
  {
   "cell_type": "code",
   "execution_count": 43,
   "id": "a87299ba",
   "metadata": {},
   "outputs": [
    {
     "name": "stdout",
     "output_type": "stream",
     "text": [
      "94\n"
     ]
    }
   ],
   "source": [
    "lstImport = model.feature_importances_\n",
    "print(len(lstImport))"
   ]
  },
  {
   "cell_type": "code",
   "execution_count": 44,
   "id": "949dd33f",
   "metadata": {},
   "outputs": [
    {
     "data": {
      "text/plain": [
       "Text(0.5, 1.0, 'Importância de cada feature')"
      ]
     },
     "execution_count": 44,
     "metadata": {},
     "output_type": "execute_result"
    },
    {
     "data": {
      "image/png": "[encoded data removed]",
      "text/plain": [
       "<Figure size 576x1152 with 1 Axes>"
      ]
     },
     "metadata": {
      "needs_background": "light"
     },
     "output_type": "display_data"
    }
   ],
   "source": [
    "importances = pd.Series(data=model.feature_importances_, index=columns_features)\n",
    "importances = importances[importances[columns_features] > 0].sort_values(ascending = False)\n",
    "plt.figure(figsize=(8,16))\n",
    "sns.barplot(x=importances, y=importances.index, orient='h').set_title('Importância de cada feature')"
   ]
  },
  {
   "cell_type": "code",
   "execution_count": 27,
   "id": "a284b225",
   "metadata": {},
   "outputs": [
    {
     "data": {
      "text/plain": [
       "pandas.core.series.Series"
      ]
     },
     "execution_count": 27,
     "metadata": {},
     "output_type": "execute_result"
    }
   ],
   "source": [
    "type(importances)"
   ]
  },
  {
   "cell_type": "code",
   "execution_count": 38,
   "id": "dc1ea853",
   "metadata": {},
   "outputs": [
    {
     "data": {
      "text/plain": [
       "red_min             0.036768\n",
       "hallcover_median    0.033252\n",
       "blue_median_wet     0.027909\n",
       "swir2_median_wet    0.027089\n",
       "green_median        0.026216\n",
       "                      ...   \n",
       "cloud_median_wet    0.002418\n",
       "cloud_median_dry    0.002045\n",
       "cloud_median        0.001932\n",
       "npv_stdDev          0.001148\n",
       "cloud_stdDev        0.000996\n",
       "Length: 94, dtype: float64"
      ]
     },
     "execution_count": 38,
     "metadata": {},
     "output_type": "execute_result"
    }
   ],
   "source": [
    "importances"
   ]
  },
  {
   "cell_type": "code",
   "execution_count": 62,
   "id": "22629a9e",
   "metadata": {},
   "outputs": [
    {
     "name": "stdout",
     "output_type": "stream",
     "text": [
      "0.8532518878368219\n"
     ]
    }
   ],
   "source": [
    "print(upper_tri['swir2_median']['blue_median_wet'])"
   ]
  },
  {
   "cell_type": "code",
   "execution_count": 65,
   "id": "51912539",
   "metadata": {},
   "outputs": [],
   "source": [
    "# ??"
   ]
  },
  {
   "cell_type": "code",
   "execution_count": 70,
   "id": "ee8d8d43",
   "metadata": {},
   "outputs": [],
   "source": [
    "ls_name_imp = []\n",
    "for cc, (name, _imp) in enumerate(importances.iteritems()):\n",
    "#     print(cc, name, _imp)\n",
    "    if cc == 0:\n",
    "        print(cc, name, _imp)\n",
    "        ls_name_imp.append(name)\n",
    "    else:\n",
    "        anexar = True\n",
    "        for nname in ls_name_imp:\n",
    "            val_corr = upper_tri[name][nname]\n",
    "            if val_corr > 0.9:\n",
    "                anexar = False\n",
    "                \n",
    "        if anexar:\n",
    "            print(cc, name, _imp)\n",
    "            ls_name_imp.append(name)\n",
    "                \n",
    "            \n",
    "    \n",
    "    \n",
    "\n"
   ]
  },
  {
   "cell_type": "code",
   "execution_count": 72,
   "id": "1b7f0b5f",
   "metadata": {},
   "outputs": [
    {
     "data": {
      "text/plain": [
       "49"
      ]
     },
     "execution_count": 72,
     "metadata": {},
     "output_type": "execute_result"
    }
   ],
   "source": [
    "len(ls_name_imp)"
   ]
  },
  {
   "cell_type": "code",
   "execution_count": 73,
   "id": "23df008c",
   "metadata": {},
   "outputs": [
    {
     "name": "stdout",
     "output_type": "stream",
     "text": [
      "\"red_min\",\"red_median_wet\",\"gv_median\",\"blue_min\",\"hallcover_median\",\n",
      "\"evi2_median\",\"blue_median_wet\",\"green_median_dry\",\"nir_median\",\"green_median_texture\",\n",
      "\"cai_median_dry\",\"ndwi_median_wet\",\"evi2_stdDev\",\"gcvi_median_wet\",\"shade_min\",\n",
      "\"nir_median_wet\",\"ndfi_median_wet\",\"cai_median\",\"nir_min\",\"pri_median\",\n",
      "\"slope_1\",\"gvs_median_wet\",\"swir2_stdDev\",\"gcvi_median_dry\",\"pri_median_dry\",\n",
      "\"sefi_stdDev\",\"shade_median_dry\",\"blue_median\",\"hallcover_stdDev\",\"green_stdDev\",\n",
      "\"npv_min\",\"evi2_amp\",\"swir1_min\",\"npv_median\",\"savi_median_wet\",\n",
      "\"ndwi_median_dry\",\"ndfi_amp\",\"cai_stdDev\",\"gv_max\",\"gvs_amp\",\n",
      "\"shade_max\",\"npv_max\",\"shade_amp\",\"cloud_max\",\"npv_amp\",\n",
      "\"cloud_median_wet\",\"cloud_median_dry\",\"cloud_median\",\"cloud_stdDev\",\n"
     ]
    }
   ],
   "source": [
    "index_d = 5\n",
    "for index in range(0, len(ls_name_imp), 5):\n",
    "    text = ''\n",
    "    for jj in ls_name_imp[index : index_d]:\n",
    "        text += '\"' + jj + '\",'\n",
    "    print(text)\n",
    "    index_d += 5 "
   ]
  },
  {
   "cell_type": "code",
   "execution_count": null,
   "id": "7710c528",
   "metadata": {},
   "outputs": [],
   "source": []
  },
  {
   "cell_type": "code",
   "execution_count": 17,
   "id": "7c11df25",
   "metadata": {},
   "outputs": [],
   "source": [
    "porcentagemFeat = int(len(lstImport) * 0.3)\n",
    "test = SelectKBest(score_func=f_classif, k=porcentagemFeat)\n",
    "fit_KBest = test.fit(X, y)"
   ]
  },
  {
   "cell_type": "code",
   "execution_count": 18,
   "id": "b4d87d60",
   "metadata": {},
   "outputs": [
    {
     "name": "stdout",
     "output_type": "stream",
     "text": [
      "[26717.77257538588    22588.90323791011    30660.035598719634\n",
      " 28051.97101883501    23298.569762505052   22303.33954502626\n",
      "  3994.6926097098067   6458.127401925514    6755.939332858297\n",
      "  5992.364649456918    6480.010222533383    1318.1675572225556\n",
      "  4694.049519963529   12932.70800005611    10541.776086927652\n",
      "  4516.528657606352   18566.774602973845   15343.001077399258\n",
      " 19752.96741390162    31892.877136938052   31041.721587213367\n",
      "  5435.250347310803   29948.286383203373    8993.874381755775\n",
      "  4229.927404832328    9342.330443143279   13315.483497567033\n",
      "  9936.501164951555   10925.49277793561     4043.316267353639\n",
      "  4741.4735451825145  14646.313864078566   11461.868172543513\n",
      " 19160.345294322084   11542.388943232616   31850.429511901053\n",
      " 12074.054058369491    6187.273679640198   14529.931289921493\n",
      " 10806.784506141232   21036.700247419172   10738.18520830528\n",
      "  6082.838351170299   18506.854112379      15760.560448371798\n",
      " 25774.3604952473      5122.753236710378   13617.322481777035\n",
      "  9985.114048406918   17666.76918855713     9204.437981531197\n",
      "  9695.702840230302    4117.49394310894     6970.378354298871\n",
      "  2796.1533616585775   4710.970625640037    6661.384570747852\n",
      "  4438.641857959386    6289.223117505257    2359.5392476546144\n",
      "  1946.1690369850378   2348.241198920839   34554.91227698521\n",
      " 32120.89427005835    35934.49810911843    33655.24630110786\n",
      " 13024.320018625596   10745.198418465627   12007.87903498056\n",
      "  4469.196722698055   21354.3494594013     11770.488434007926\n",
      "  2090.8375188265672   5043.789350102244   11434.870972093955\n",
      "  5075.03431673571     6501.452115732291    2002.2191404342384\n",
      "   210.33643438539238 13879.867764465725   25901.424029061855\n",
      " 25448.807921084834   24898.49002987277    18075.998951710284\n",
      " 11045.826552733093   25170.64085581429    26775.286901928986\n",
      " 20223.987860159334    8481.16295557686    30174.393161511103\n",
      " 32475.43199079915    27112.215700695055   11319.991247720169\n",
      "  3690.39075360819   ]\n",
      "94\n"
     ]
    }
   ],
   "source": [
    "set_printoptions(precision= porcentagemFeat)\n",
    "print(fit_KBest.scores_)\n",
    "print(len(fit_KBest.scores_))"
   ]
  },
  {
   "cell_type": "code",
   "execution_count": 20,
   "id": "7d6b236b",
   "metadata": {},
   "outputs": [],
   "source": [
    "# Get columns to keep and create new dataframe with those only\n",
    "cols = fit_KBest.get_support(indices=True)\n",
    "features_df_new = concat_df.iloc[:,cols]"
   ]
  },
  {
   "cell_type": "code",
   "execution_count": 23,
   "id": "1fe89f4d",
   "metadata": {},
   "outputs": [
    {
     "name": "stdout",
     "output_type": "stream",
     "text": [
      "Index(['blue_median', 'blue_median_dry', 'blue_median_wet', 'blue_min',\n",
      "       'blue_stdDev', 'cai_median', 'evi2_median_dry', 'evi2_median_wet',\n",
      "       'evi2_stdDev', 'gcvi_median_dry', 'gv_median', 'gv_median_wet',\n",
      "       'gvs_median', 'hallcover_median', 'ndwi_median_dry', 'ndwi_median_wet',\n",
      "       'ndwi_stdDev', 'nir_median', 'npv_amp', 'red_median', 'red_median_dry',\n",
      "       'red_median_wet', 'savi_median', 'savi_median_dry', 'savi_median_wet',\n",
      "       'sefi_median', 'sefi_median_dry', 'sefi_stdDev'],\n",
      "      dtype='object')\n"
     ]
    }
   ],
   "source": [
    "print(features_df_new.columns)\n"
   ]
  },
  {
   "cell_type": "code",
   "execution_count": 25,
   "id": "ad411bc7",
   "metadata": {},
   "outputs": [
    {
     "name": "stdout",
     "output_type": "stream",
     "text": [
      "Index(['blue_median', 'blue_median_dry', 'blue_median_wet', 'blue_min',\n",
      "       'cai_median', 'cai_median_dry', 'gcvi_median_wet', 'green_median',\n",
      "       'green_median_dry', 'green_median_wet', 'gvs_median_wet',\n",
      "       'hallcover_median', 'ndfi_median_wet', 'ndvi_median_wet', 'red_median',\n",
      "       'red_median_dry', 'red_median_wet', 'red_min', 'sefi_median_dry',\n",
      "       'soil_max', 'soil_median', 'soil_median_wet', 'swir1_median',\n",
      "       'swir1_median_wet', 'swir1_min', 'swir2_median', 'swir2_median_wet',\n",
      "       'swir2_min'],\n",
      "      dtype='object')\n"
     ]
    }
   ],
   "source": [
    "mask = fit_KBest.get_support()\n",
    "new_features = concat_df[columns_features].columns[mask]\n",
    "print(new_features)"
   ]
  },
  {
   "cell_type": "code",
   "execution_count": null,
   "id": "a23fb197",
   "metadata": {},
   "outputs": [],
   "source": [
    "model = LinearSVC()\n",
    "rfe = RFE(model, step=1).fit(X, y)"
   ]
  },
  {
   "cell_type": "code",
   "execution_count": null,
   "id": "0de26500",
   "metadata": {},
   "outputs": [],
   "source": [
    "print(rfe.scores_)\n",
    "print(len(rfe.scores_))"
   ]
  }
 ],
 "metadata": {
  "kernelspec": {
   "display_name": "Python 3 (ipykernel)",
   "language": "python",
   "name": "python3"
  },
  "language_info": {
   "codemirror_mode": {
    "name": "ipython",
    "version": 3
   },
   "file_extension": ".py",
   "mimetype": "text/x-python",
   "name": "python",
   "nbconvert_exporter": "python",
   "pygments_lexer": "ipython3",
   "version": "3.10.5"
  }
 },
 "nbformat": 4,
 "nbformat_minor": 5
}
